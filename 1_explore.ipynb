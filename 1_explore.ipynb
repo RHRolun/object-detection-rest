{
 "cells": [
  {
   "cell_type": "markdown",
   "metadata": {},
   "source": [
    "# Exploratory Data Science\n",
    "\n",
    "Data exploration and understanding the task at hand is a fundamental step in the Machine Learning workflow.\n",
    "In this notebook, we'll take an opportunity to explore the use case, data and models we'll be using.\n",
    "\n",
    "We have been tasked with developing an application which can identify objects in static and live images. In this notebook we use a pre-trained machine learning model, and explore how it works on static photos. \n",
    "\n",
    "To begin, we install and import a range of python packages:"
   ]
  },
  {
   "cell_type": "code",
   "execution_count": null,
   "metadata": {},
   "outputs": [],
   "source": [
    "!pip install onnxruntime\n",
    "!pip install huggingface_hub"
   ]
  },
  {
   "cell_type": "code",
   "execution_count": null,
   "metadata": {},
   "outputs": [],
   "source": [
    "from os import environ\n",
    "\n",
    "import numpy as np\n",
    "from onnxruntime import InferenceSession\n",
    "from PIL import Image, ImageColor, ImageDraw, ImageFont, ImageOps\n",
    "from huggingface_hub import hf_hub_download\n",
    "\n",
    "from classes import classes\n",
    "\n",
    "import json\n",
    "\n",
    "\n",
    "print('Imported libraries')"
   ]
  },
  {
   "cell_type": "markdown",
   "metadata": {},
   "source": [
    "## Import our image\n",
    "\n",
    "In the next cell we import the image we want to test our model on."
   ]
  },
  {
   "cell_type": "code",
   "execution_count": null,
   "metadata": {},
   "outputs": [],
   "source": [
    "sample_image = 'sample-images/AFRICAN CROWNED CRANE.jpg'\n",
    "sample = Image.open(sample_image)\n",
    "sample"
   ]
  },
  {
   "cell_type": "markdown",
   "metadata": {},
   "source": [
    "This image shows a cat. We need to import the image as an array so the ONNX model we will use can process the image."
   ]
  },
  {
   "cell_type": "code",
   "execution_count": null,
   "metadata": {},
   "outputs": [],
   "source": [
    "def transform(image):\n",
    "    model_image_size = (260, 260)\n",
    "    boxed_image = letterbox_image(image, tuple(reversed(model_image_size)))\n",
    "    image_data = np.array(boxed_image, dtype='float32')\n",
    "    image_data /= 255.\n",
    "    image_data = np.transpose(image_data, [2, 0, 1])\n",
    "    image_data = np.expand_dims(image_data, 0)\n",
    "    return image_data\n",
    "\n",
    "\n",
    "def letterbox_image(image, size):\n",
    "    '''resize image with unchanged aspect ratio using padding'''\n",
    "    iw, ih = image.size\n",
    "    w, h = size\n",
    "    scale = min(w/iw, h/ih)\n",
    "    nw = int(iw*scale)\n",
    "    nh = int(ih*scale)\n",
    "\n",
    "    image = image.resize((nw, nh), Image.Resampling.BICUBIC)\n",
    "    new_image = Image.new('RGB', size, (128, 128, 128))\n",
    "    new_image.paste(image, ((w-nw)//2, (h-nh)//2))\n",
    "    return new_image"
   ]
  },
  {
   "cell_type": "code",
   "execution_count": null,
   "metadata": {
    "tags": []
   },
   "outputs": [],
   "source": [
    "converted_image = transform(sample)\n",
    "converted_image"
   ]
  },
  {
   "cell_type": "markdown",
   "metadata": {},
   "source": [
    "## Load in a model"
   ]
  },
  {
   "cell_type": "code",
   "execution_count": null,
   "metadata": {},
   "outputs": [],
   "source": [
    "def get_model_hf():\n",
    "    REPO_ID = \"dennisjooo/Birds-Classifier-EfficientNetB2\"\n",
    "    MODEL_FILENAME = \"model.onnx\"\n",
    "    CONFIG_FILENAME = \"config.json\"\n",
    "\n",
    "    model_location = hf_hub_download(repo_id=REPO_ID, filename=MODEL_FILENAME)\n",
    "    config_location = hf_hub_download(repo_id=REPO_ID, filename=CONFIG_FILENAME)\n",
    "\n",
    "    print(f'Downloaded model to {model_location}')\n",
    "    print(f'Downloaded config to {config_location}')\n",
    "    \n",
    "    f = open(config_location)\n",
    "    config = json.load(f)\n",
    "    \n",
    "    session = InferenceSession(model_location, providers=['CPUExecutionProvider'])\n",
    "    \n",
    "    return model_location, config_location\n",
    "\n",
    "def get_model_s3(model_name=\"model.onnx\", config_name=\"config.json\"):\n",
    "    import boto3\n",
    "    \n",
    "    s3_endpoint_url = environ.get('AWS_S3_ENDPOINT')\n",
    "    s3_access_key = environ.get('AWS_ACCESS_KEY_ID')\n",
    "    s3_secret_key = environ.get('AWS_SECRET_ACCESS_KEY')\n",
    "    s3_bucket_name = environ.get('AWS_S3_BUCKET')\n",
    "\n",
    "    print('Imported s3 library')\n",
    "\n",
    "    s3 = boto3.client(\n",
    "        's3', endpoint_url=s3_endpoint_url,\n",
    "        aws_access_key_id=s3_access_key, aws_secret_access_key=s3_secret_key,\n",
    "    )\n",
    "    s3.download_file(s3_bucket_name, model_name, model_name)\n",
    "    s3.download_file(s3_bucket_name, config_name, config_name)\n",
    "    print('Downloaded model.')\n",
    "    \n",
    "    f = open(config_name)\n",
    "    config = json.load(f)\n",
    "    \n",
    "    session = InferenceSession('model.onnx')\n",
    "    \n",
    "    return model_name, config_name"
   ]
  },
  {
   "cell_type": "code",
   "execution_count": null,
   "metadata": {},
   "outputs": [],
   "source": [
    "# REPO_ID = \"dennisjooo/Birds-Classifier-EfficientNetB2\"\n",
    "# MODEL_FILENAME = \"model.onnx\"\n",
    "# CONFIG_FILENAME = \"config.json\""
   ]
  },
  {
   "cell_type": "code",
   "execution_count": null,
   "metadata": {},
   "outputs": [],
   "source": [
    "# model_location = hf_hub_download(repo_id=REPO_ID, filename=MODEL_FILENAME)\n",
    "# config_location = hf_hub_download(repo_id=REPO_ID, filename=CONFIG_FILENAME)\n",
    "\n",
    "# print(f'Downloaded model to {model_location}')\n",
    "# print(f'Downloaded config to {config_location}')"
   ]
  },
  {
   "cell_type": "code",
   "execution_count": null,
   "metadata": {},
   "outputs": [],
   "source": [
    "# f = open(config_location)\n",
    "# config = json.load(f)"
   ]
  },
  {
   "cell_type": "markdown",
   "metadata": {},
   "source": [
    "You should be able to see that this file has been added to your file directory on the left hand side of the screen.\n",
    "\n",
    "Let's now use the model to run object detection on our sample image."
   ]
  },
  {
   "cell_type": "code",
   "execution_count": null,
   "metadata": {},
   "outputs": [],
   "source": [
    "model_location, config_location = get_model_hf()\n",
    "# model_location, config_location = get_model_s3(model_name=\"model-latest.onnx\", config_name=\"config-latest.json\")"
   ]
  },
  {
   "cell_type": "code",
   "execution_count": null,
   "metadata": {},
   "outputs": [],
   "source": [
    "f = open(config_location)\n",
    "config = json.load(f)\n",
    "f.close()"
   ]
  },
  {
   "cell_type": "code",
   "execution_count": null,
   "metadata": {
    "tags": []
   },
   "outputs": [],
   "source": [
    "session = InferenceSession(model_location, providers=['CPUExecutionProvider'])\n",
    "raw_result = session.run(\n",
    "    [], {'pixel_values': converted_image,}\n",
    ")\n",
    "raw_result"
   ]
  },
  {
   "cell_type": "code",
   "execution_count": null,
   "metadata": {},
   "outputs": [],
   "source": [
    "def postprocess(raw_result):\n",
    "    scores, detected_classes = [], []\n",
    "    for sample in raw_result:\n",
    "        ind = np.argpartition(sample, -min(sample.shape[0], 4))[-4:]\n",
    "        ind = ind[np.argsort(-sample[ind])]\n",
    "        if (sample[ind]>0).any():\n",
    "            ind = ind[sample[ind]>0]\n",
    "        else:\n",
    "            sample = sample - sample.min()\n",
    "        \n",
    "        detected_classes.append([config[\"id2label\"][str(i)] for i in ind])\n",
    "        scores.append(sample[ind]/(sample[ind].sum()))\n",
    "    \n",
    "    return scores, detected_classes"
   ]
  },
  {
   "cell_type": "code",
   "execution_count": null,
   "metadata": {},
   "outputs": [],
   "source": [
    "result = postprocess(*raw_result)\n",
    "result"
   ]
  },
  {
   "cell_type": "markdown",
   "metadata": {},
   "source": [
    "The model has returned arrays, each of which holds information about the detected objects. The information includes identifiers for the types of objects, coordinates locating the objects within the image, and detection scores, corresponding to how certain the model is about its prediction.\n",
    "\n",
    "We can use a few functions to help us to superimpose the information in this dictionary onto the original image."
   ]
  },
  {
   "cell_type": "code",
   "execution_count": null,
   "metadata": {},
   "outputs": [],
   "source": [
    "def draw_result(image, scores, classes):\n",
    "    image_pil = Image.open(image)\n",
    "    \n",
    "    image_width = image_pil.width\n",
    "    \n",
    "    image_pil = ImageOps.expand(image_pil, border=(0,0,200,0), fill=(255,255,255))\n",
    "    draw = ImageDraw.Draw(image_pil)\n",
    "\n",
    "    text = \"\"\n",
    "    for i in range(len(scores[0])):\n",
    "        text += f\"{classes[0][i]} | {round(scores[0][i]*100,1)}%\\n\"\n",
    "    font = ImageFont.load_default()\n",
    "    draw.text((image_width+5,5),text,(0,0,0),font=font)\n",
    "    return image_pil    "
   ]
  },
  {
   "cell_type": "code",
   "execution_count": null,
   "metadata": {},
   "outputs": [],
   "source": [
    "draw_result(sample_image, *result)"
   ]
  },
  {
   "cell_type": "markdown",
   "metadata": {},
   "source": [
    "Fantastic! So you've seen how we can use a pre-trained model to identify objects in images. In the next notebooks, we will deploy this model using RHODS Model Serving, which allows us to use it as part of a larger application."
   ]
  },
  {
   "cell_type": "markdown",
   "metadata": {},
   "source": [
    "## Upload model to S3"
   ]
  },
  {
   "cell_type": "code",
   "execution_count": null,
   "metadata": {},
   "outputs": [],
   "source": [
    "import boto3\n",
    "\n",
    "s3_endpoint_url = environ.get('AWS_S3_ENDPOINT')\n",
    "s3_access_key = environ.get('AWS_ACCESS_KEY_ID')\n",
    "s3_secret_key = environ.get('AWS_SECRET_ACCESS_KEY')\n",
    "\n",
    "print('Imported s3 library')"
   ]
  },
  {
   "cell_type": "code",
   "execution_count": null,
   "metadata": {},
   "outputs": [],
   "source": [
    "s3_bucket_name = 'model'"
   ]
  },
  {
   "cell_type": "code",
   "execution_count": null,
   "metadata": {},
   "outputs": [],
   "source": [
    "s3 = boto3.client(\n",
    "    's3', endpoint_url=s3_endpoint_url,\n",
    "    aws_access_key_id=s3_access_key, aws_secret_access_key=s3_secret_key,\n",
    ")\n",
    "s3.upload_file(model_location, s3_bucket_name, 'model.onnx')\n",
    "s3.upload_file(config_location, s3_bucket_name, 'config.json')"
   ]
  },
  {
   "cell_type": "code",
   "execution_count": null,
   "metadata": {},
   "outputs": [],
   "source": []
  }
 ],
 "metadata": {
  "celltoolbar": "Raw Cell Format",
  "kernelspec": {
   "display_name": "Python 3.9",
   "language": "python",
   "name": "python3"
  },
  "language_info": {
   "codemirror_mode": {
    "name": "ipython",
    "version": 3
   },
   "file_extension": ".py",
   "mimetype": "text/x-python",
   "name": "python",
   "nbconvert_exporter": "python",
   "pygments_lexer": "ipython3",
   "version": "3.9.16"
  }
 },
 "nbformat": 4,
 "nbformat_minor": 4
}
