{
 "cells": [
  {
   "cell_type": "code",
   "execution_count": null,
   "id": "a317bc7e-98c4-4c90-ad4c-2bf7d48aeed0",
   "metadata": {},
   "outputs": [],
   "source": [
    "!pip install onnx\n",
    "!pip install huggingface_hub\n",
    "!pip install fastai"
   ]
  },
  {
   "cell_type": "code",
   "execution_count": null,
   "id": "79baf2f3-eeba-4e99-b420-701eaf07e069",
   "metadata": {},
   "outputs": [],
   "source": [
    "from fetch_data import fetch_data\n",
    "from train_model import train_model\n",
    "from onnx_converter import convert_fastai_to_onnx\n",
    "from upload_model import upload_model"
   ]
  },
  {
   "cell_type": "code",
   "execution_count": null,
   "id": "2543bb48-dbc0-4e0a-b4f0-6821b82ac59f",
   "metadata": {},
   "outputs": [],
   "source": [
    "fetch_data()"
   ]
  },
  {
   "cell_type": "code",
   "execution_count": null,
   "id": "e6e67c39-155c-4fc0-96f1-e4cb2e5747dc",
   "metadata": {},
   "outputs": [],
   "source": [
    "train_model()"
   ]
  },
  {
   "cell_type": "code",
   "execution_count": null,
   "id": "aff0ea53-69a7-4877-bc45-2ca07bfd732d",
   "metadata": {},
   "outputs": [],
   "source": [
    "convert_fastai_to_onnx()"
   ]
  },
  {
   "cell_type": "code",
   "execution_count": null,
   "id": "3badd700-f7a5-4218-aacb-4be29d166dad",
   "metadata": {},
   "outputs": [],
   "source": [
    "upload_model()"
   ]
  }
 ],
 "metadata": {
  "kernelspec": {
   "display_name": "Python 3.9",
   "language": "python",
   "name": "python3"
  },
  "language_info": {
   "codemirror_mode": {
    "name": "ipython",
    "version": 3
   },
   "file_extension": ".py",
   "mimetype": "text/x-python",
   "name": "python",
   "nbconvert_exporter": "python",
   "pygments_lexer": "ipython3",
   "version": "3.9.16"
  }
 },
 "nbformat": 4,
 "nbformat_minor": 5
}
